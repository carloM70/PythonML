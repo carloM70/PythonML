{
 "cells": [
  {
   "cell_type": "code",
   "execution_count": 1,
   "metadata": {},
   "outputs": [],
   "source": [
    "import numpy as np\n",
    "import matplotlib.pyplot as plt"
   ]
  },
  {
   "cell_type": "code",
   "execution_count": 2,
   "metadata": {},
   "outputs": [
    {
     "name": "stdout",
     "output_type": "stream",
     "text": [
      "2 7\n",
      "0.18 0.89 109.85\n",
      "1.0 0.26 155.72\n",
      "0.92 0.11 137.66\n",
      "0.07 0.37 76.17\n",
      "0.85 0.16 139.75\n",
      "0.99 0.41 162.6\n",
      "0.87 0.47 151.77\n",
      "[[1.   0.18 0.89]\n",
      " [1.   1.   0.26]\n",
      " [1.   0.92 0.11]\n",
      " [1.   0.07 0.37]\n",
      " [1.   0.85 0.16]\n",
      " [1.   0.99 0.41]\n",
      " [1.   0.87 0.47]]\n",
      "[[109.85]\n",
      " [155.72]\n",
      " [137.66]\n",
      " [ 76.17]\n",
      " [139.75]\n",
      " [162.6 ]\n",
      " [151.77]]\n",
      "4\n",
      "0.49 0.18\n",
      "0.57 0.83\n",
      "0.56 0.64\n",
      "0.76 0.18\n",
      "[[1.   0.49 0.18]\n",
      " [1.   0.57 0.83]\n",
      " [1.   0.56 0.64]\n",
      " [1.   0.76 0.18]]\n"
     ]
    }
   ],
   "source": [
    "#INTRODUCIENDO DATOS DE ENTRENAMIENTO\n",
    "F, N = [int(x) for x in input().split()]\n",
    "X, Y=[],[]\n",
    "for i in range(N):\n",
    "    data = list(map(float, input().split())) # Leemos la lista.\n",
    "    X.append(data[:F])\n",
    "    Y.append(data[F])\n",
    "X = np.asarray(X)\n",
    "X = np.insert(X,0,1,axis=1)\n",
    "Y = np.asarray(Y)\n",
    "Y = np.asarray(Y).reshape(N,1)\n",
    "print(X)\n",
    "print(Y)\n",
    "#INTRODUCIENDO DATOS DE TEST\n",
    "T = int(input())\n",
    "Xp = []\n",
    "for i in range(T):\n",
    "    data = list(map(float, input().split())) # Leemos la lista.\n",
    "    Xp.append(data[:F])\n",
    "Xp = np.asarray(Xp)\n",
    "Xp = np.insert(Xp,0,1,axis=1)\n",
    "print(Xp)"
   ]
  },
  {
   "cell_type": "code",
   "execution_count": 3,
   "metadata": {},
   "outputs": [],
   "source": [
    "def reg_lin_Mat(X,Y):\n",
    "    \"\"\"\n",
    "    X: Matriz de dimensiones (n,k+1) primera columna de 1\n",
    "    Y: Vector de salidas\n",
    "    \"\"\"\n",
    "    return np.linalg.inv(X.T@X)@(X.T@Y)"
   ]
  },
  {
   "cell_type": "code",
   "execution_count": 4,
   "metadata": {},
   "outputs": [
    {
     "name": "stdout",
     "output_type": "stream",
     "text": [
      "[[52.41149905]\n",
      " [90.69331739]\n",
      " [46.46296549]]\n",
      "105.21\n",
      "142.67\n",
      "132.94\n",
      "129.7\n"
     ]
    }
   ],
   "source": [
    "#resolviendo de forma analitica\n",
    "Theta = reg_lin_Mat(X,Y)\n",
    "print(Theta)\n",
    "Yp = Xp@Theta \n",
    "Yp = np.around(Yp,2)\n",
    "for i in range(T):\n",
    "    print(float(Yp[i]))"
   ]
  },
  {
   "cell_type": "code",
   "execution_count": 5,
   "metadata": {},
   "outputs": [],
   "source": [
    "#CREANDO LA FUNCION DE COSTO EN BASE AL ERROR CUADRATICO MEDIO (J = 1/2*1/n*E.T*E)\n",
    "#donde E es el vector de error  (Y - Ys)\n",
    "#n es el numero de datos de entrenamiento\n",
    "def FuncionCosto (X,Y,Theta):\n",
    "    Ys = X@Theta\n",
    "    E = Ys - Y\n",
    "    J = 0.5*(1/Y.shape[0])*(E.T@E)\n",
    "    return J"
   ]
  },
  {
   "cell_type": "code",
   "execution_count": 6,
   "metadata": {},
   "outputs": [],
   "source": [
    "#CREANDO EL GRADIENTE DE LA FUNCION DE COSTO\n",
    "def GradFuncionCosto (X,Y,Theta):\n",
    "    Ys = X@Theta\n",
    "    E = Ys - Y\n",
    "    Jgrad = (1/Y.shape[0])*(X.T@E)\n",
    "    return Jgrad"
   ]
  },
  {
   "cell_type": "code",
   "execution_count": 7,
   "metadata": {},
   "outputs": [],
   "source": [
    "#resolviendo con gradient descent\n",
    "def gradient_descent (X,Y,alpha=0.001,iteracion=10**5):\n",
    "    Theta = np.random.randn(X.shape[1]).reshape(X.shape[1],1) #empezando con parametros aleatorios\n",
    "    J_draw = []\n",
    "    for i in range(iteracion):\n",
    "        J_costo = FuncionCosto(X,Y,Theta)      #CALCULO DE LA FUNCION DE COSTO\n",
    "        J_grad = GradFuncionCosto(X,Y,Theta)    #CALCULO DEL GRADIENTE\n",
    "        Theta = Theta - alpha*J_grad   #ACTUALIZACION DE PARAMETROS\n",
    "        J_draw.append(float(J_costo))  #ALMACENAMIENTO DE VALORES DE LA FUNCION DE COSTO\n",
    "    print('Valores de los parametros: \\n',Theta)    \n",
    "    print('Ultimo valor de la funcion de costo:  ',J_draw[iteracion-1])\n",
    "    plt.title('GRAFICA DE GRADIENTE DESCENDENTE')\n",
    "    plt.xlabel('NRO. ITERACION')\n",
    "    plt.ylabel('FUNCION DE COSTO:  J')\n",
    "    plt.plot(range(iteracion),J_draw,'-r')\n",
    "    plt.grid()\n",
    "    return Theta"
   ]
  },
  {
   "cell_type": "code",
   "execution_count": 8,
   "metadata": {},
   "outputs": [
    {
     "name": "stdout",
     "output_type": "stream",
     "text": [
      "Valores de los parametros: \n",
      " [[52.41149905]\n",
      " [90.69331738]\n",
      " [46.46296548]]\n",
      "Ultimo valor de la funcion de costo:   1.6390509919069418\n"
     ]
    },
    {
     "data": {
      "image/png": "[encoded data removed]",
      "text/plain": [
       "<Figure size 432x288 with 1 Axes>"
      ]
     },
     "metadata": {
      "needs_background": "light"
     },
     "output_type": "display_data"
    }
   ],
   "source": [
    "Theta_grad = gradient_descent(X,Y,0.01)"
   ]
  },
  {
   "cell_type": "code",
   "execution_count": 9,
   "metadata": {},
   "outputs": [
    {
     "name": "stdout",
     "output_type": "stream",
     "text": [
      "105.21\n",
      "142.67\n",
      "132.94\n",
      "129.7\n"
     ]
    }
   ],
   "source": [
    "#PREDICCION DE VALORES DE Y\n",
    "Yp1 = Xp@Theta_grad\n",
    "Yp1 = np.around(Yp1,2)\n",
    "for i in range(T):\n",
    "    print(float(Yp1[i]))"
   ]
  },
  {
   "cell_type": "code",
   "execution_count": null,
   "metadata": {},
   "outputs": [],
   "source": []
  }
 ],
 "metadata": {
  "kernelspec": {
   "display_name": "Python 3",
   "language": "python",
   "name": "python3"
  },
  "language_info": {
   "codemirror_mode": {
    "name": "ipython",
    "version": 3
   },
   "file_extension": ".py",
   "mimetype": "text/x-python",
   "name": "python",
   "nbconvert_exporter": "python",
   "pygments_lexer": "ipython3",
   "version": "3.7.1"
  }
 },
 "nbformat": 4,
 "nbformat_minor": 2
}
